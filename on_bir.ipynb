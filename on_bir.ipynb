{
 "cells": [
  {
   "cell_type": "code",
   "execution_count": 22,
   "id": "45ff9235-0c5a-4899-b9e4-1722b8d8008a",
   "metadata": {},
   "outputs": [],
   "source": [
    "import numpy as np\n",
    "import pandas as pd\n",
    "import seaborn as sns\n",
    "import warnings\n",
    "import matplotlib.pyplot as plt\n",
    "from sklearn.model_selection import train_test_split, GridSearchCV, cross_val_score\n",
    "from sklearn.preprocessing import StandardScaler\n",
    "from sklearn.neural_network import MLPRegressor\n",
    "from sklearn.metrics import mean_squared_error, r2_score"
   ]
  },
  {
   "cell_type": "code",
   "execution_count": 2,
   "id": "b96fd916-4147-4b7b-b6fb-9b77c91223e0",
   "metadata": {},
   "outputs": [
    {
     "data": {
      "text/html": [
       "<div>\n",
       "<style scoped>\n",
       "    .dataframe tbody tr th:only-of-type {\n",
       "        vertical-align: middle;\n",
       "    }\n",
       "\n",
       "    .dataframe tbody tr th {\n",
       "        vertical-align: top;\n",
       "    }\n",
       "\n",
       "    .dataframe thead th {\n",
       "        text-align: right;\n",
       "    }\n",
       "</style>\n",
       "<table border=\"1\" class=\"dataframe\">\n",
       "  <thead>\n",
       "    <tr style=\"text-align: right;\">\n",
       "      <th></th>\n",
       "      <th>Feature1</th>\n",
       "      <th>Feature2</th>\n",
       "      <th>Feature3</th>\n",
       "      <th>Target</th>\n",
       "    </tr>\n",
       "  </thead>\n",
       "  <tbody>\n",
       "    <tr>\n",
       "      <th>0</th>\n",
       "      <td>0.374540</td>\n",
       "      <td>0.950714</td>\n",
       "      <td>0.731994</td>\n",
       "      <td>6.574771</td>\n",
       "    </tr>\n",
       "    <tr>\n",
       "      <th>1</th>\n",
       "      <td>0.598658</td>\n",
       "      <td>0.156019</td>\n",
       "      <td>0.155995</td>\n",
       "      <td>1.637751</td>\n",
       "    </tr>\n",
       "    <tr>\n",
       "      <th>2</th>\n",
       "      <td>0.058084</td>\n",
       "      <td>0.866176</td>\n",
       "      <td>0.601115</td>\n",
       "      <td>7.263100</td>\n",
       "    </tr>\n",
       "    <tr>\n",
       "      <th>3</th>\n",
       "      <td>0.708073</td>\n",
       "      <td>0.020584</td>\n",
       "      <td>0.969910</td>\n",
       "      <td>5.991457</td>\n",
       "    </tr>\n",
       "    <tr>\n",
       "      <th>4</th>\n",
       "      <td>0.832443</td>\n",
       "      <td>0.212339</td>\n",
       "      <td>0.181825</td>\n",
       "      <td>1.004060</td>\n",
       "    </tr>\n",
       "  </tbody>\n",
       "</table>\n",
       "</div>"
      ],
      "text/plain": [
       "   Feature1  Feature2  Feature3    Target\n",
       "0  0.374540  0.950714  0.731994  6.574771\n",
       "1  0.598658  0.156019  0.155995  1.637751\n",
       "2  0.058084  0.866176  0.601115  7.263100\n",
       "3  0.708073  0.020584  0.969910  5.991457\n",
       "4  0.832443  0.212339  0.181825  1.004060"
      ]
     },
     "execution_count": 2,
     "metadata": {},
     "output_type": "execute_result"
    }
   ],
   "source": [
    "# Örnek Veri Seti Oluşturalım.\n",
    "np.random.seed(42)\n",
    "\n",
    "X = np.random.rand(100, 3) # 3 özellik içeren 100 gözlem\n",
    "y = 2 * X[:, 0] + 3 * X[:, 1] + 4 * X[:, 2] + np.random.randn(100) # Hedeflenen değerler\n",
    "\n",
    "# Veri setini DataFrame 'e dönüştürelim.\n",
    "data = pd.DataFrame(X, columns=['Feature1', 'Feature2', 'Feature3'])\n",
    "data['Target'] = y\n",
    "\n",
    "data.head()"
   ]
  },
  {
   "cell_type": "markdown",
   "id": "75ae6e0b-d393-4348-81b3-dad173a0ebb4",
   "metadata": {},
   "source": [
    "# Veri Analizi"
   ]
  },
  {
   "cell_type": "code",
   "execution_count": 3,
   "id": "ed201a05-854a-468e-942d-e1cb4bcfd6dc",
   "metadata": {},
   "outputs": [
    {
     "data": {
      "text/html": [
       "<div>\n",
       "<style scoped>\n",
       "    .dataframe tbody tr th:only-of-type {\n",
       "        vertical-align: middle;\n",
       "    }\n",
       "\n",
       "    .dataframe tbody tr th {\n",
       "        vertical-align: top;\n",
       "    }\n",
       "\n",
       "    .dataframe thead th {\n",
       "        text-align: right;\n",
       "    }\n",
       "</style>\n",
       "<table border=\"1\" class=\"dataframe\">\n",
       "  <thead>\n",
       "    <tr style=\"text-align: right;\">\n",
       "      <th></th>\n",
       "      <th>count</th>\n",
       "      <th>mean</th>\n",
       "      <th>std</th>\n",
       "      <th>min</th>\n",
       "      <th>25%</th>\n",
       "      <th>50%</th>\n",
       "      <th>75%</th>\n",
       "      <th>max</th>\n",
       "    </tr>\n",
       "  </thead>\n",
       "  <tbody>\n",
       "    <tr>\n",
       "      <th>Feature1</th>\n",
       "      <td>100.0</td>\n",
       "      <td>0.476849</td>\n",
       "      <td>0.285957</td>\n",
       "      <td>0.005522</td>\n",
       "      <td>0.238589</td>\n",
       "      <td>0.472761</td>\n",
       "      <td>0.713109</td>\n",
       "      <td>0.990054</td>\n",
       "    </tr>\n",
       "    <tr>\n",
       "      <th>Feature2</th>\n",
       "      <td>100.0</td>\n",
       "      <td>0.512461</td>\n",
       "      <td>0.310219</td>\n",
       "      <td>0.005062</td>\n",
       "      <td>0.253347</td>\n",
       "      <td>0.520517</td>\n",
       "      <td>0.781201</td>\n",
       "      <td>0.985650</td>\n",
       "    </tr>\n",
       "    <tr>\n",
       "      <th>Feature3</th>\n",
       "      <td>100.0</td>\n",
       "      <td>0.496303</td>\n",
       "      <td>0.288114</td>\n",
       "      <td>0.006952</td>\n",
       "      <td>0.237540</td>\n",
       "      <td>0.522412</td>\n",
       "      <td>0.712545</td>\n",
       "      <td>0.969910</td>\n",
       "    </tr>\n",
       "    <tr>\n",
       "      <th>Target</th>\n",
       "      <td>100.0</td>\n",
       "      <td>4.546123</td>\n",
       "      <td>1.933652</td>\n",
       "      <td>0.817340</td>\n",
       "      <td>3.267249</td>\n",
       "      <td>4.298251</td>\n",
       "      <td>5.998103</td>\n",
       "      <td>9.227577</td>\n",
       "    </tr>\n",
       "  </tbody>\n",
       "</table>\n",
       "</div>"
      ],
      "text/plain": [
       "          count      mean       std       min       25%       50%       75%  \\\n",
       "Feature1  100.0  0.476849  0.285957  0.005522  0.238589  0.472761  0.713109   \n",
       "Feature2  100.0  0.512461  0.310219  0.005062  0.253347  0.520517  0.781201   \n",
       "Feature3  100.0  0.496303  0.288114  0.006952  0.237540  0.522412  0.712545   \n",
       "Target    100.0  4.546123  1.933652  0.817340  3.267249  4.298251  5.998103   \n",
       "\n",
       "               max  \n",
       "Feature1  0.990054  \n",
       "Feature2  0.985650  \n",
       "Feature3  0.969910  \n",
       "Target    9.227577  "
      ]
     },
     "execution_count": 3,
     "metadata": {},
     "output_type": "execute_result"
    }
   ],
   "source": [
    "data.describe().T"
   ]
  },
  {
   "cell_type": "code",
   "execution_count": 4,
   "id": "f6509a15-5b0c-47f4-8013-a46b384cfc0d",
   "metadata": {},
   "outputs": [
    {
     "name": "stdout",
     "output_type": "stream",
     "text": [
      "<class 'pandas.core.frame.DataFrame'>\n",
      "RangeIndex: 100 entries, 0 to 99\n",
      "Data columns (total 4 columns):\n",
      " #   Column    Non-Null Count  Dtype  \n",
      "---  ------    --------------  -----  \n",
      " 0   Feature1  100 non-null    float64\n",
      " 1   Feature2  100 non-null    float64\n",
      " 2   Feature3  100 non-null    float64\n",
      " 3   Target    100 non-null    float64\n",
      "dtypes: float64(4)\n",
      "memory usage: 3.2 KB\n"
     ]
    }
   ],
   "source": [
    "data.info()"
   ]
  },
  {
   "cell_type": "code",
   "execution_count": 5,
   "id": "f9d1e2eb-c2e9-4bed-a44c-559338ffc564",
   "metadata": {},
   "outputs": [
    {
     "data": {
      "text/html": [
       "<div>\n",
       "<style scoped>\n",
       "    .dataframe tbody tr th:only-of-type {\n",
       "        vertical-align: middle;\n",
       "    }\n",
       "\n",
       "    .dataframe tbody tr th {\n",
       "        vertical-align: top;\n",
       "    }\n",
       "\n",
       "    .dataframe thead th {\n",
       "        text-align: right;\n",
       "    }\n",
       "</style>\n",
       "<table border=\"1\" class=\"dataframe\">\n",
       "  <thead>\n",
       "    <tr style=\"text-align: right;\">\n",
       "      <th></th>\n",
       "      <th>Feature1</th>\n",
       "      <th>Feature2</th>\n",
       "      <th>Feature3</th>\n",
       "      <th>Target</th>\n",
       "    </tr>\n",
       "  </thead>\n",
       "  <tbody>\n",
       "    <tr>\n",
       "      <th>Feature1</th>\n",
       "      <td>1.000000</td>\n",
       "      <td>0.053330</td>\n",
       "      <td>-0.089317</td>\n",
       "      <td>0.300375</td>\n",
       "    </tr>\n",
       "    <tr>\n",
       "      <th>Feature2</th>\n",
       "      <td>0.053330</td>\n",
       "      <td>1.000000</td>\n",
       "      <td>-0.014830</td>\n",
       "      <td>0.463852</td>\n",
       "    </tr>\n",
       "    <tr>\n",
       "      <th>Feature3</th>\n",
       "      <td>-0.089317</td>\n",
       "      <td>-0.014830</td>\n",
       "      <td>1.000000</td>\n",
       "      <td>0.644139</td>\n",
       "    </tr>\n",
       "    <tr>\n",
       "      <th>Target</th>\n",
       "      <td>0.300375</td>\n",
       "      <td>0.463852</td>\n",
       "      <td>0.644139</td>\n",
       "      <td>1.000000</td>\n",
       "    </tr>\n",
       "  </tbody>\n",
       "</table>\n",
       "</div>"
      ],
      "text/plain": [
       "          Feature1  Feature2  Feature3    Target\n",
       "Feature1  1.000000  0.053330 -0.089317  0.300375\n",
       "Feature2  0.053330  1.000000 -0.014830  0.463852\n",
       "Feature3 -0.089317 -0.014830  1.000000  0.644139\n",
       "Target    0.300375  0.463852  0.644139  1.000000"
      ]
     },
     "execution_count": 5,
     "metadata": {},
     "output_type": "execute_result"
    }
   ],
   "source": [
    "data.corr()"
   ]
  },
  {
   "cell_type": "code",
   "execution_count": 6,
   "id": "525c7e9c-d87a-40d1-ae5a-763e40562522",
   "metadata": {},
   "outputs": [
    {
     "data": {
      "text/plain": [
       "Feature1    0.081771\n",
       "Feature2    0.096236\n",
       "Feature3    0.083010\n",
       "Target      3.739008\n",
       "dtype: float64"
      ]
     },
     "execution_count": 6,
     "metadata": {},
     "output_type": "execute_result"
    }
   ],
   "source": [
    "data.var()"
   ]
  },
  {
   "cell_type": "code",
   "execution_count": 7,
   "id": "6e8c0c2d-11c4-4a6a-8ffc-07a9520276f9",
   "metadata": {},
   "outputs": [
    {
     "data": {
      "image/png": "[encoded data removed]",
      "text/plain": [
       "<Figure size 720x720 with 20 Axes>"
      ]
     },
     "metadata": {
      "needs_background": "light"
     },
     "output_type": "display_data"
    }
   ],
   "source": [
    "sns.pairplot(data=data);\n",
    "plt.show()"
   ]
  },
  {
   "cell_type": "code",
   "execution_count": 8,
   "id": "b142c44d-8bf9-4238-a54d-9fc962497cdb",
   "metadata": {},
   "outputs": [
    {
     "data": {
      "image/png": "[encoded data removed]",
      "text/plain": [
       "<Figure size 432x288 with 1 Axes>"
      ]
     },
     "metadata": {
      "needs_background": "light"
     },
     "output_type": "display_data"
    }
   ],
   "source": [
    "sns.boxplot(data=data);\n",
    "plt.show()"
   ]
  },
  {
   "cell_type": "code",
   "execution_count": 9,
   "id": "f7bc1bc7-ee81-4145-a1b2-83fc348f838d",
   "metadata": {},
   "outputs": [
    {
     "data": {
      "text/plain": [
       "Feature1    False\n",
       "Feature2    False\n",
       "Feature3    False\n",
       "Target      False\n",
       "dtype: bool"
      ]
     },
     "execution_count": 9,
     "metadata": {},
     "output_type": "execute_result"
    }
   ],
   "source": [
    "# Eksik gözlemleri inceleyelim.\n",
    "data.isnull().any()"
   ]
  },
  {
   "cell_type": "markdown",
   "id": "3970207c-943d-48bc-83f6-8fe32ca9203d",
   "metadata": {},
   "source": [
    "# Verileri Standartlaştıralım."
   ]
  },
  {
   "cell_type": "code",
   "execution_count": 10,
   "id": "3d16f45a-d312-49ef-bb5e-6e726dea33b5",
   "metadata": {},
   "outputs": [
    {
     "data": {
      "text/html": [
       "<div>\n",
       "<style scoped>\n",
       "    .dataframe tbody tr th:only-of-type {\n",
       "        vertical-align: middle;\n",
       "    }\n",
       "\n",
       "    .dataframe tbody tr th {\n",
       "        vertical-align: top;\n",
       "    }\n",
       "\n",
       "    .dataframe thead th {\n",
       "        text-align: right;\n",
       "    }\n",
       "</style>\n",
       "<table border=\"1\" class=\"dataframe\">\n",
       "  <thead>\n",
       "    <tr style=\"text-align: right;\">\n",
       "      <th></th>\n",
       "      <th>Feature1</th>\n",
       "      <th>Feature2</th>\n",
       "      <th>Feature3</th>\n",
       "      <th>Target</th>\n",
       "    </tr>\n",
       "  </thead>\n",
       "  <tbody>\n",
       "    <tr>\n",
       "      <th>0</th>\n",
       "      <td>-0.359580</td>\n",
       "      <td>1.419838</td>\n",
       "      <td>0.822168</td>\n",
       "      <td>6.574771</td>\n",
       "    </tr>\n",
       "    <tr>\n",
       "      <th>1</th>\n",
       "      <td>0.428116</td>\n",
       "      <td>-1.154792</td>\n",
       "      <td>-1.187110</td>\n",
       "      <td>1.637751</td>\n",
       "    </tr>\n",
       "    <tr>\n",
       "      <th>2</th>\n",
       "      <td>-1.471813</td>\n",
       "      <td>1.145954</td>\n",
       "      <td>0.365619</td>\n",
       "      <td>7.263100</td>\n",
       "    </tr>\n",
       "    <tr>\n",
       "      <th>3</th>\n",
       "      <td>0.812668</td>\n",
       "      <td>-1.593567</td>\n",
       "      <td>1.652098</td>\n",
       "      <td>5.991457</td>\n",
       "    </tr>\n",
       "    <tr>\n",
       "      <th>4</th>\n",
       "      <td>1.249785</td>\n",
       "      <td>-0.972327</td>\n",
       "      <td>-1.097005</td>\n",
       "      <td>1.004060</td>\n",
       "    </tr>\n",
       "  </tbody>\n",
       "</table>\n",
       "</div>"
      ],
      "text/plain": [
       "   Feature1  Feature2  Feature3    Target\n",
       "0 -0.359580  1.419838  0.822168  6.574771\n",
       "1  0.428116 -1.154792 -1.187110  1.637751\n",
       "2 -1.471813  1.145954  0.365619  7.263100\n",
       "3  0.812668 -1.593567  1.652098  5.991457\n",
       "4  1.249785 -0.972327 -1.097005  1.004060"
      ]
     },
     "execution_count": 10,
     "metadata": {},
     "output_type": "execute_result"
    }
   ],
   "source": [
    "scaler = StandardScaler()\n",
    "scaled_X = scaler.fit_transform(X)\n",
    "\n",
    "scaled_data = pd.DataFrame(scaled_X, columns=['Feature1', 'Feature2', 'Feature3'])\n",
    "scaled_data['Target'] = y\n",
    "scaled_data.head()"
   ]
  },
  {
   "cell_type": "code",
   "execution_count": 11,
   "id": "e43f23f5-a8e2-4d6b-a257-d144ca737e5c",
   "metadata": {},
   "outputs": [
    {
     "data": {
      "image/png": "[encoded data removed]",
      "text/plain": [
       "<Figure size 720x720 with 20 Axes>"
      ]
     },
     "metadata": {
      "needs_background": "light"
     },
     "output_type": "display_data"
    }
   ],
   "source": [
    "sns.pairplot(data=scaled_data);"
   ]
  },
  {
   "cell_type": "markdown",
   "id": "0379acb4-4368-4014-8e27-cc6a247d7082",
   "metadata": {},
   "source": [
    "# Model İşlemleri"
   ]
  },
  {
   "cell_type": "code",
   "execution_count": 12,
   "id": "21316984-e063-49c2-84d1-d9f39ab58661",
   "metadata": {},
   "outputs": [],
   "source": [
    "X_train, X_test, y_train, y_test = train_test_split(scaled_X, y, test_size=0.2, random_state=42)"
   ]
  },
  {
   "cell_type": "code",
   "execution_count": 13,
   "id": "57f09834-53d8-4171-a9cb-cc7b5a3b34b8",
   "metadata": {},
   "outputs": [
    {
     "name": "stderr",
     "output_type": "stream",
     "text": [
      "C:\\Users\\murat\\anaconda3\\lib\\site-packages\\sklearn\\neural_network\\_multilayer_perceptron.py:692: ConvergenceWarning: Stochastic Optimizer: Maximum iterations (200) reached and the optimization hasn't converged yet.\n",
      "  warnings.warn(\n"
     ]
    }
   ],
   "source": [
    "model = MLPRegressor().fit(X_train, y_train)"
   ]
  },
  {
   "cell_type": "markdown",
   "id": "89fd35d9-856d-46fa-9a6c-84c7d99ed47d",
   "metadata": {},
   "source": [
    "# Modelin Bilgilerine Erişelim."
   ]
  },
  {
   "cell_type": "code",
   "execution_count": 14,
   "id": "78443fd3-df0a-4234-b300-826a724c4a3b",
   "metadata": {},
   "outputs": [
    {
     "data": {
      "text/plain": [
       "{'activation': 'relu',\n",
       " 'alpha': 0.0001,\n",
       " 'batch_size': 'auto',\n",
       " 'beta_1': 0.9,\n",
       " 'beta_2': 0.999,\n",
       " 'early_stopping': False,\n",
       " 'epsilon': 1e-08,\n",
       " 'hidden_layer_sizes': (100,),\n",
       " 'learning_rate': 'constant',\n",
       " 'learning_rate_init': 0.001,\n",
       " 'max_fun': 15000,\n",
       " 'max_iter': 200,\n",
       " 'momentum': 0.9,\n",
       " 'n_iter_no_change': 10,\n",
       " 'nesterovs_momentum': True,\n",
       " 'power_t': 0.5,\n",
       " 'random_state': None,\n",
       " 'shuffle': True,\n",
       " 'solver': 'adam',\n",
       " 'tol': 0.0001,\n",
       " 'validation_fraction': 0.1,\n",
       " 'verbose': False,\n",
       " 'warm_start': False}"
      ]
     },
     "execution_count": 14,
     "metadata": {},
     "output_type": "execute_result"
    }
   ],
   "source": [
    "model.get_params()"
   ]
  },
  {
   "cell_type": "markdown",
   "id": "02759fa3-2e3b-4c96-9a07-28390f746761",
   "metadata": {},
   "source": [
    "# Modeli Değerlendirelim"
   ]
  },
  {
   "cell_type": "code",
   "execution_count": 15,
   "id": "12d30298-883a-4943-a17a-82683b650113",
   "metadata": {},
   "outputs": [
    {
     "name": "stdout",
     "output_type": "stream",
     "text": [
      "MSE:  1.838977522489709\n",
      "R^2:  0.6103349489440532\n"
     ]
    }
   ],
   "source": [
    "# Tahmin\n",
    "y_pred = model.predict(X_test)\n",
    "mse = mean_squared_error(y_test, y_pred)\n",
    "r2 = r2_score(y_test, y_pred)\n",
    "\n",
    "print('MSE: ', mse)\n",
    "print('R^2: ', r2)"
   ]
  },
  {
   "cell_type": "code",
   "execution_count": 16,
   "id": "69ce1658-aff8-4c1e-a000-8ae3f363c8d4",
   "metadata": {},
   "outputs": [
    {
     "data": {
      "image/png": "[encoded data removed]",
      "text/plain": [
       "<Figure size 432x288 with 1 Axes>"
      ]
     },
     "metadata": {
      "needs_background": "light"
     },
     "output_type": "display_data"
    }
   ],
   "source": [
    "sns.scatterplot(x=y_pred, y=y_test);"
   ]
  },
  {
   "cell_type": "markdown",
   "id": "a20ce779-e692-42aa-82d9-e8fe99023cb6",
   "metadata": {},
   "source": [
    "# Model Tuning İşlemi"
   ]
  },
  {
   "cell_type": "code",
   "execution_count": 17,
   "id": "dbb13bdb-1073-42e1-97c8-1ce22a05104a",
   "metadata": {},
   "outputs": [],
   "source": [
    "warnings.filterwarnings('ignore')"
   ]
  },
  {
   "cell_type": "code",
   "execution_count": 21,
   "id": "b40d39b9-a862-4c98-b2e4-38274a5145b0",
   "metadata": {},
   "outputs": [
    {
     "name": "stdout",
     "output_type": "stream",
     "text": [
      "Best Parameters:  {'activation': 'relu', 'alpha': 0.01, 'hidden_layer_sizes': (50,), 'max_iter': 2000, 'solver': 'sgd'}\n",
      "Best Score:  0.7511038405124979\n"
     ]
    }
   ],
   "source": [
    "params = {\n",
    "    'hidden_layer_sizes':[(50,), (100,), (100, 50)],\n",
    "    'activation': ['relu', 'tanh'],\n",
    "    'solver': ['adam', 'sgd'],\n",
    "    'alpha': [0.0001, 0.001, 0.01],\n",
    "    'max_iter': [200, 1000, 2000]\n",
    "}\n",
    "\n",
    "grid = GridSearchCV(estimator=model, param_grid=params, cv=5)\n",
    "grid.fit(X_train, y_train)\n",
    "\n",
    "print('Best Parameters: ', grid.best_params_)\n",
    "print('Best Score: ', grid.best_score_)\n",
    "best_model = grid.best_estimator_"
   ]
  },
  {
   "cell_type": "code",
   "execution_count": 26,
   "id": "13624d51-3403-4a8c-bea4-28024139bcc4",
   "metadata": {},
   "outputs": [
    {
     "name": "stdout",
     "output_type": "stream",
     "text": [
      "RMSE Scores:  [1.09181456 1.36093968 1.04467893 0.95470891 0.92063059]\n"
     ]
    }
   ],
   "source": [
    "scores = cross_val_score(best_model, scaled_X, y, cv=5, scoring='neg_mean_squared_error')\n",
    "rmse_scores = np.sqrt(-scores)\n",
    "\n",
    "print('RMSE Scores: ', rmse_scores)"
   ]
  },
  {
   "cell_type": "markdown",
   "id": "2b988f30-ab29-4225-a56e-fee90ca93364",
   "metadata": {},
   "source": [
    "# Model Tuning Sonrası Hiperparametreleri Kullanarak Tekrar Model Oluşturalım."
   ]
  },
  {
   "cell_type": "code",
   "execution_count": 27,
   "id": "a0620463-d623-4fa0-b7db-b0ded0c5e036",
   "metadata": {},
   "outputs": [
    {
     "data": {
      "text/plain": [
       "MLPRegressor(alpha=0.01, hidden_layer_sizes=(50,), max_iter=2000, solver='sgd')"
      ]
     },
     "execution_count": 27,
     "metadata": {},
     "output_type": "execute_result"
    }
   ],
   "source": [
    "model = MLPRegressor(activation='relu', alpha=0.01, hidden_layer_sizes=(50,), max_iter=2000, solver='sgd')\n",
    "model.fit(X_train, y_train)"
   ]
  },
  {
   "cell_type": "code",
   "execution_count": 28,
   "id": "b23703c7-9dc7-4b76-be09-261ab567edc1",
   "metadata": {},
   "outputs": [],
   "source": [
    "y_pred = model.predict(X_test)"
   ]
  },
  {
   "cell_type": "code",
   "execution_count": 35,
   "id": "93548f6c-3727-41b5-b53a-c2011e638d29",
   "metadata": {},
   "outputs": [
    {
     "data": {
      "image/png": "[encoded data removed]",
      "text/plain": [
       "<Figure size 432x288 with 1 Axes>"
      ]
     },
     "metadata": {
      "needs_background": "light"
     },
     "output_type": "display_data"
    }
   ],
   "source": [
    "plt.scatter(y_test, y_pred)\n",
    "plt.xlabel('Gerçek Değerler')\n",
    "plt.ylabel('Tahmin Edilen Değerler')\n",
    "plt.title('Gerçek Değerler vs. Tahmin Edilen Değerler')\n",
    "plt.show()"
   ]
  },
  {
   "cell_type": "code",
   "execution_count": 39,
   "id": "02d2edb1-c832-4c15-84cc-c3c8541b67d1",
   "metadata": {},
   "outputs": [
    {
     "name": "stdout",
     "output_type": "stream",
     "text": [
      "Tahmin:  5.117893860001062\n"
     ]
    }
   ],
   "source": [
    "inputt = np.array([[0.3, 0.4, 0.8]])\n",
    "\n",
    "scaled_observation = scaler.transform(inputt)\n",
    "prediction = best_model.predict(scaled_observation)\n",
    "print('Tahmin: ', float(prediction))"
   ]
  },
  {
   "cell_type": "code",
   "execution_count": 44,
   "id": "b24a191a-02a0-4d50-8334-50c7e2e64c5f",
   "metadata": {},
   "outputs": [
    {
     "data": {
      "text/plain": [
       "20"
      ]
     },
     "execution_count": 44,
     "metadata": {},
     "output_type": "execute_result"
    }
   ],
   "source": [
    "y_pred.size"
   ]
  },
  {
   "cell_type": "code",
   "execution_count": 45,
   "id": "91236137-1257-4fa4-97a8-fab95b607704",
   "metadata": {},
   "outputs": [
    {
     "data": {
      "text/plain": [
       "20"
      ]
     },
     "execution_count": 45,
     "metadata": {},
     "output_type": "execute_result"
    }
   ],
   "source": [
    "y_test.size"
   ]
  },
  {
   "cell_type": "code",
   "execution_count": 48,
   "id": "586c0301-c417-4308-a460-6b3aacb839b5",
   "metadata": {},
   "outputs": [
    {
     "data": {
      "text/html": [
       "<div>\n",
       "<style scoped>\n",
       "    .dataframe tbody tr th:only-of-type {\n",
       "        vertical-align: middle;\n",
       "    }\n",
       "\n",
       "    .dataframe tbody tr th {\n",
       "        vertical-align: top;\n",
       "    }\n",
       "\n",
       "    .dataframe thead th {\n",
       "        text-align: right;\n",
       "    }\n",
       "</style>\n",
       "<table border=\"1\" class=\"dataframe\">\n",
       "  <thead>\n",
       "    <tr style=\"text-align: right;\">\n",
       "      <th></th>\n",
       "      <th>Gerçek Değerler</th>\n",
       "      <th>Tahmin Değerleri</th>\n",
       "    </tr>\n",
       "  </thead>\n",
       "  <tbody>\n",
       "    <tr>\n",
       "      <th>0</th>\n",
       "      <td>4.150760</td>\n",
       "      <td>4.440307</td>\n",
       "    </tr>\n",
       "    <tr>\n",
       "      <th>1</th>\n",
       "      <td>3.136918</td>\n",
       "      <td>5.209765</td>\n",
       "    </tr>\n",
       "    <tr>\n",
       "      <th>2</th>\n",
       "      <td>6.528292</td>\n",
       "      <td>5.705411</td>\n",
       "    </tr>\n",
       "    <tr>\n",
       "      <th>3</th>\n",
       "      <td>4.414637</td>\n",
       "      <td>5.025005</td>\n",
       "    </tr>\n",
       "    <tr>\n",
       "      <th>4</th>\n",
       "      <td>5.223275</td>\n",
       "      <td>5.537930</td>\n",
       "    </tr>\n",
       "    <tr>\n",
       "      <th>5</th>\n",
       "      <td>3.772324</td>\n",
       "      <td>5.334066</td>\n",
       "    </tr>\n",
       "    <tr>\n",
       "      <th>6</th>\n",
       "      <td>1.467272</td>\n",
       "      <td>3.286668</td>\n",
       "    </tr>\n",
       "    <tr>\n",
       "      <th>7</th>\n",
       "      <td>9.227577</td>\n",
       "      <td>9.359237</td>\n",
       "    </tr>\n",
       "  </tbody>\n",
       "</table>\n",
       "</div>"
      ],
      "text/plain": [
       "   Gerçek Değerler  Tahmin Değerleri\n",
       "0         4.150760          4.440307\n",
       "1         3.136918          5.209765\n",
       "2         6.528292          5.705411\n",
       "3         4.414637          5.025005\n",
       "4         5.223275          5.537930\n",
       "5         3.772324          5.334066\n",
       "6         1.467272          3.286668\n",
       "7         9.227577          9.359237"
      ]
     },
     "execution_count": 48,
     "metadata": {},
     "output_type": "execute_result"
    }
   ],
   "source": [
    "test = pd.DataFrame({\n",
    "    'Gerçek Değerler': y_test,\n",
    "    'Tahmin Değerleri': y_pred\n",
    "})\n",
    "\n",
    "test.head(8)"
   ]
  }
 ],
 "metadata": {
  "kernelspec": {
   "display_name": "Python 3 (ipykernel)",
   "language": "python",
   "name": "python3"
  },
  "language_info": {
   "codemirror_mode": {
    "name": "ipython",
    "version": 3
   },
   "file_extension": ".py",
   "mimetype": "text/x-python",
   "name": "python",
   "nbconvert_exporter": "python",
   "pygments_lexer": "ipython3",
   "version": "3.9.12"
  }
 },
 "nbformat": 4,
 "nbformat_minor": 5
}
